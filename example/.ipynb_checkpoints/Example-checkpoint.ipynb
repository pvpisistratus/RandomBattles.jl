{
 "cells": [
  {
   "cell_type": "code",
   "execution_count": null,
   "metadata": {},
   "outputs": [],
   "source": [
    "using Pkg; Pkg.activate(\".\")"
   ]
  },
  {
   "cell_type": "code",
   "execution_count": null,
   "metadata": {},
   "outputs": [],
   "source": [
    "Pkg.develop(url=\"/home/its/Documents/Julia/Dev/RandomBattles.jl\");\n",
    "#Pkg.add(\"BenchmarkTools\")\n",
    "#Pkg.add(\"StatProfilerHTML\")\n",
    "#Pkg.add(\"Plots\")"
   ]
  },
  {
   "cell_type": "code",
   "execution_count": null,
   "metadata": {},
   "outputs": [],
   "source": [
    "Pkg.build(\"RandomBattles\")\n",
    "using RandomBattles, BenchmarkTools, StatProfilerHTML"
   ]
  },
  {
   "cell_type": "code",
   "execution_count": null,
   "metadata": {},
   "outputs": [],
   "source": [
    "static_state1 = StaticState((\"lanturn\", \"dragonair\", \"froslass\", \"azumarill\", \"sableye\", \"marowak_alolan\"))\n",
    "dynamic_state1 = DynamicState(static_state1)\n",
    "static_state2 = StaticState((\"azumarill\", \"sableye\", \"marowak_alolan\", \"lanturn\", \"dragonair\", \"froslass\"))\n",
    "dynamic_state2 = DynamicState(static_state2);"
   ]
  },
  {
   "cell_type": "code",
   "execution_count": null,
   "metadata": {},
   "outputs": [],
   "source": [
    "@benchmark battle_scores(d, s, 1000) setup = (d = dynamic_state1; s = static_state1)"
   ]
  },
  {
   "cell_type": "code",
   "execution_count": null,
   "metadata": {},
   "outputs": [],
   "source": [
    "#@profilehtml battle_scores(dynamic_state1, static_state1, 1_000)"
   ]
  },
  {
   "cell_type": "code",
   "execution_count": null,
   "metadata": {},
   "outputs": [],
   "source": [
    "#SM(dynamic_state1, static_state1, 30)"
   ]
  },
  {
   "cell_type": "code",
   "execution_count": null,
   "metadata": {},
   "outputs": [],
   "source": [
    "#@benchmark SM(dynamic_state1, static_state1, 30)"
   ]
  },
  {
   "cell_type": "code",
   "execution_count": null,
   "metadata": {},
   "outputs": [],
   "source": [
    "#SM(dynamic_state2, static_state2, 30)"
   ]
  },
  {
   "cell_type": "code",
   "execution_count": null,
   "metadata": {},
   "outputs": [],
   "source": [
    "#@benchmark SM(dynamic_state2, static_state2, 30)"
   ]
  },
  {
   "cell_type": "code",
   "execution_count": null,
   "metadata": {},
   "outputs": [],
   "source": [
    "#value, strat = solve_battle(dynamic_state2, static_state2, 30)"
   ]
  },
  {
   "cell_type": "code",
   "execution_count": null,
   "metadata": {},
   "outputs": [],
   "source": [
    "#using Plots, Plots.PlotMeasures\n",
    "#plot_strategy(strat, static_state2)\n",
    "#plot!(background=:transparent, foreground=:white, grid = false, left_margin=10mm)"
   ]
  },
  {
   "cell_type": "code",
   "execution_count": null,
   "metadata": {},
   "outputs": [],
   "source": [
    "select_decisions_MCTS(dynamic_state1, static_state1)"
   ]
  }
 ],
 "metadata": {
  "@webio": {
   "lastCommId": null,
   "lastKernelId": null
  },
  "kernelspec": {
   "display_name": "Julia (16 threads) 1.8.0-beta1",
   "language": "julia",
   "name": "julia-(16-threads)-1.8"
  },
  "language_info": {
   "file_extension": ".jl",
   "mimetype": "application/julia",
   "name": "julia",
   "version": "1.8.0"
  }
 },
 "nbformat": 4,
 "nbformat_minor": 4
}
